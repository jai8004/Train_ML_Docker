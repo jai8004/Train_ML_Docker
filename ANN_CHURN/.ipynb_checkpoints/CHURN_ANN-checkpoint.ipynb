{
 "cells": [
  {
   "cell_type": "code",
   "execution_count": 1,
   "metadata": {},
   "outputs": [],
   "source": [
    "# Importing the libraries\n",
    "import numpy as np\n",
    "import matplotlib.pyplot as plt\n",
    "import pandas as pd"
   ]
  },
  {
   "cell_type": "code",
   "execution_count": 2,
   "metadata": {},
   "outputs": [],
   "source": [
    "\n",
    "# Importing the dataset\n",
    "dataset = pd.read_csv('Churn_Modelling.csv')\n",
    "X = dataset.iloc[:, 3:13]\n",
    "y = dataset.iloc[:, 13]\n"
   ]
  },
  {
   "cell_type": "code",
   "execution_count": 3,
   "metadata": {},
   "outputs": [],
   "source": [
    "\n",
    "#Create dummy variables\n",
    "geography=pd.get_dummies(X[\"Geography\"],drop_first=True)\n",
    "gender=pd.get_dummies(X['Gender'],drop_first=True)\n"
   ]
  },
  {
   "cell_type": "code",
   "execution_count": 4,
   "metadata": {},
   "outputs": [],
   "source": [
    "\n",
    "## Concatenate the Data Frames\n",
    "\n",
    "X=pd.concat([X,geography,gender],axis=1)\n",
    "\n",
    "## Drop Unnecessary columns\n",
    "X=X.drop(['Geography','Gender'],axis=1)"
   ]
  },
  {
   "cell_type": "code",
   "execution_count": 5,
   "metadata": {},
   "outputs": [],
   "source": [
    "\n",
    "# Splitting the dataset into the Training set and Test set\n",
    "from sklearn.model_selection import train_test_split\n",
    "X_train, X_test, y_train, y_test = train_test_split(X, y, test_size = 0.2, random_state = 0)\n"
   ]
  },
  {
   "cell_type": "code",
   "execution_count": 6,
   "metadata": {},
   "outputs": [],
   "source": [
    "# Feature Scaling\n",
    "from sklearn.preprocessing import StandardScaler\n",
    "sc = StandardScaler()\n",
    "X_train = sc.fit_transform(X_train)\n",
    "X_test = sc.transform(X_test)"
   ]
  },
  {
   "cell_type": "code",
   "execution_count": 7,
   "metadata": {},
   "outputs": [
    {
     "name": "stderr",
     "output_type": "stream",
     "text": [
      "Using TensorFlow backend.\n"
     ]
    }
   ],
   "source": [
    "\n",
    "\n",
    "# Importing the Keras libraries and packages\n",
    "import keras\n",
    "from keras.models import Sequential\n",
    "from keras.layers import Dense\n",
    "from keras.layers import LeakyReLU,PReLU,ELU\n",
    "from keras.layers import Dropout\n"
   ]
  },
  {
   "cell_type": "code",
   "execution_count": 8,
   "metadata": {},
   "outputs": [
    {
     "name": "stderr",
     "output_type": "stream",
     "text": [
      "<ipython-input-8-b0bf5874166e>:2: UserWarning: Update your `Dense` call to the Keras 2 API: `Dense(activation=\"relu\", input_dim=11, units=6, kernel_initializer=\"he_uniform\")`\n",
      "  classifier.add(Dense(output_dim = 6, init = 'he_uniform',activation='relu',input_dim = 11))\n",
      "<ipython-input-8-b0bf5874166e>:3: UserWarning: Update your `Dense` call to the Keras 2 API: `Dense(activation=\"relu\", units=6, kernel_initializer=\"he_uniform\")`\n",
      "  classifier.add(Dense(output_dim = 6, init = 'he_uniform',activation='relu'))\n",
      "<ipython-input-8-b0bf5874166e>:4: UserWarning: Update your `Dense` call to the Keras 2 API: `Dense(activation=\"sigmoid\", units=1, kernel_initializer=\"glorot_uniform\")`\n",
      "  classifier.add(Dense(output_dim = 1, init = 'glorot_uniform', activation = 'sigmoid'))\n",
      "<ipython-input-8-b0bf5874166e>:6: UserWarning: The `nb_epoch` argument in `fit` has been renamed `epochs`.\n",
      "  model_history=classifier.fit(X_train, y_train,validation_split=0.33, batch_size = 10, nb_epoch = 100)\n"
     ]
    },
    {
     "name": "stdout",
     "output_type": "stream",
     "text": [
      "Train on 5359 samples, validate on 2641 samples\n",
      "Epoch 1/100\n",
      "5359/5359 [==============================] - 1s 253us/step - loss: 0.5732 - accuracy: 0.7291 - val_loss: 0.4848 - val_accuracy: 0.8027\n",
      "Epoch 2/100\n",
      "5359/5359 [==============================] - 1s 141us/step - loss: 0.4687 - accuracy: 0.8033 - val_loss: 0.4594 - val_accuracy: 0.8076\n",
      "Epoch 3/100\n",
      "5359/5359 [==============================] - 1s 144us/step - loss: 0.4495 - accuracy: 0.8076 - val_loss: 0.4463 - val_accuracy: 0.8103\n",
      "Epoch 4/100\n",
      "5359/5359 [==============================] - 1s 143us/step - loss: 0.4388 - accuracy: 0.8155 - val_loss: 0.4401 - val_accuracy: 0.8103\n",
      "Epoch 5/100\n",
      "5359/5359 [==============================] - 1s 140us/step - loss: 0.4321 - accuracy: 0.8186 - val_loss: 0.4368 - val_accuracy: 0.8099\n",
      "Epoch 6/100\n",
      "5359/5359 [==============================] - 1s 141us/step - loss: 0.4277 - accuracy: 0.8216 - val_loss: 0.4349 - val_accuracy: 0.8095\n",
      "Epoch 7/100\n",
      "5359/5359 [==============================] - 1s 142us/step - loss: 0.4247 - accuracy: 0.8250 - val_loss: 0.4325 - val_accuracy: 0.8141\n",
      "Epoch 8/100\n",
      "5359/5359 [==============================] - 1s 143us/step - loss: 0.4220 - accuracy: 0.8252 - val_loss: 0.4313 - val_accuracy: 0.8145\n",
      "Epoch 9/100\n",
      "5359/5359 [==============================] - 1s 142us/step - loss: 0.4202 - accuracy: 0.8266 - val_loss: 0.4296 - val_accuracy: 0.8145\n",
      "Epoch 10/100\n",
      "5359/5359 [==============================] - 1s 140us/step - loss: 0.4182 - accuracy: 0.8280 - val_loss: 0.4286 - val_accuracy: 0.8141\n",
      "Epoch 11/100\n",
      "5359/5359 [==============================] - 1s 143us/step - loss: 0.4165 - accuracy: 0.8276 - val_loss: 0.4277 - val_accuracy: 0.8152\n",
      "Epoch 12/100\n",
      "5359/5359 [==============================] - 1s 144us/step - loss: 0.4150 - accuracy: 0.8283 - val_loss: 0.4268 - val_accuracy: 0.8137\n",
      "Epoch 13/100\n",
      "5359/5359 [==============================] - 1s 150us/step - loss: 0.4138 - accuracy: 0.8285 - val_loss: 0.4262 - val_accuracy: 0.8171\n",
      "Epoch 14/100\n",
      "5359/5359 [==============================] - 1s 167us/step - loss: 0.4127 - accuracy: 0.8289 - val_loss: 0.4255 - val_accuracy: 0.8156\n",
      "Epoch 15/100\n",
      "5359/5359 [==============================] - 1s 154us/step - loss: 0.4114 - accuracy: 0.8296 - val_loss: 0.4249 - val_accuracy: 0.8167\n",
      "Epoch 16/100\n",
      "5359/5359 [==============================] - 1s 139us/step - loss: 0.4107 - accuracy: 0.8321 - val_loss: 0.4239 - val_accuracy: 0.8167\n",
      "Epoch 17/100\n",
      "5359/5359 [==============================] - 1s 138us/step - loss: 0.4098 - accuracy: 0.8311 - val_loss: 0.4233 - val_accuracy: 0.8171\n",
      "Epoch 18/100\n",
      "5359/5359 [==============================] - 1s 139us/step - loss: 0.4089 - accuracy: 0.8308 - val_loss: 0.4226 - val_accuracy: 0.8175\n",
      "Epoch 19/100\n",
      "5359/5359 [==============================] - 1s 142us/step - loss: 0.4080 - accuracy: 0.8309 - val_loss: 0.4219 - val_accuracy: 0.8186\n",
      "Epoch 20/100\n",
      "5359/5359 [==============================] - 1s 140us/step - loss: 0.4072 - accuracy: 0.8315 - val_loss: 0.4220 - val_accuracy: 0.8190\n",
      "Epoch 21/100\n",
      "5359/5359 [==============================] - 1s 140us/step - loss: 0.4066 - accuracy: 0.8339 - val_loss: 0.4211 - val_accuracy: 0.8198\n",
      "Epoch 22/100\n",
      "5359/5359 [==============================] - 1s 141us/step - loss: 0.4057 - accuracy: 0.8330 - val_loss: 0.4204 - val_accuracy: 0.8201\n",
      "Epoch 23/100\n",
      "5359/5359 [==============================] - 1s 140us/step - loss: 0.4052 - accuracy: 0.8324 - val_loss: 0.4210 - val_accuracy: 0.8209\n",
      "Epoch 24/100\n",
      "5359/5359 [==============================] - 1s 139us/step - loss: 0.4046 - accuracy: 0.8332 - val_loss: 0.4195 - val_accuracy: 0.8217\n",
      "Epoch 25/100\n",
      "5359/5359 [==============================] - 1s 139us/step - loss: 0.4038 - accuracy: 0.8328 - val_loss: 0.4191 - val_accuracy: 0.8224\n",
      "Epoch 26/100\n",
      "5359/5359 [==============================] - 1s 140us/step - loss: 0.4030 - accuracy: 0.8322 - val_loss: 0.4196 - val_accuracy: 0.8209\n",
      "Epoch 27/100\n",
      "5359/5359 [==============================] - 1s 149us/step - loss: 0.4022 - accuracy: 0.8336 - val_loss: 0.4196 - val_accuracy: 0.8224\n",
      "Epoch 28/100\n",
      "5359/5359 [==============================] - 1s 139us/step - loss: 0.4021 - accuracy: 0.8341 - val_loss: 0.4177 - val_accuracy: 0.8251\n",
      "Epoch 29/100\n",
      "5359/5359 [==============================] - 1s 139us/step - loss: 0.4010 - accuracy: 0.8349 - val_loss: 0.4168 - val_accuracy: 0.8239\n",
      "Epoch 30/100\n",
      "5359/5359 [==============================] - 1s 140us/step - loss: 0.3998 - accuracy: 0.8334 - val_loss: 0.4155 - val_accuracy: 0.8251\n",
      "Epoch 31/100\n",
      "5359/5359 [==============================] - 1s 140us/step - loss: 0.3986 - accuracy: 0.8341 - val_loss: 0.4146 - val_accuracy: 0.8254\n",
      "Epoch 32/100\n",
      "5359/5359 [==============================] - 1s 142us/step - loss: 0.3976 - accuracy: 0.8349 - val_loss: 0.4131 - val_accuracy: 0.8270\n",
      "Epoch 33/100\n",
      "5359/5359 [==============================] - 1s 143us/step - loss: 0.3956 - accuracy: 0.8354 - val_loss: 0.4116 - val_accuracy: 0.8273\n",
      "Epoch 34/100\n",
      "5359/5359 [==============================] - 1s 140us/step - loss: 0.3941 - accuracy: 0.8360 - val_loss: 0.4101 - val_accuracy: 0.8273\n",
      "Epoch 35/100\n",
      "5359/5359 [==============================] - 1s 167us/step - loss: 0.3916 - accuracy: 0.8354 - val_loss: 0.4078 - val_accuracy: 0.8270\n",
      "Epoch 36/100\n",
      "5359/5359 [==============================] - 1s 146us/step - loss: 0.3894 - accuracy: 0.8373 - val_loss: 0.4037 - val_accuracy: 0.8285\n",
      "Epoch 37/100\n",
      "5359/5359 [==============================] - 1s 174us/step - loss: 0.3864 - accuracy: 0.8378 - val_loss: 0.4005 - val_accuracy: 0.8292\n",
      "Epoch 38/100\n",
      "5359/5359 [==============================] - 1s 141us/step - loss: 0.3836 - accuracy: 0.8403 - val_loss: 0.3971 - val_accuracy: 0.8285\n",
      "Epoch 39/100\n",
      "5359/5359 [==============================] - 1s 171us/step - loss: 0.3805 - accuracy: 0.8429 - val_loss: 0.3930 - val_accuracy: 0.8330\n",
      "Epoch 40/100\n",
      "5359/5359 [==============================] - 1s 146us/step - loss: 0.3761 - accuracy: 0.8451 - val_loss: 0.3886 - val_accuracy: 0.8391\n",
      "Epoch 41/100\n",
      "5359/5359 [==============================] - 1s 143us/step - loss: 0.3725 - accuracy: 0.8470 - val_loss: 0.3846 - val_accuracy: 0.8398\n",
      "Epoch 42/100\n",
      "5359/5359 [==============================] - 1s 147us/step - loss: 0.3677 - accuracy: 0.8490 - val_loss: 0.3794 - val_accuracy: 0.8417\n",
      "Epoch 43/100\n",
      "5359/5359 [==============================] - 1s 146us/step - loss: 0.3625 - accuracy: 0.8505 - val_loss: 0.3754 - val_accuracy: 0.8474\n",
      "Epoch 44/100\n",
      "5359/5359 [==============================] - 1s 147us/step - loss: 0.3579 - accuracy: 0.8554 - val_loss: 0.3715 - val_accuracy: 0.8508\n",
      "Epoch 45/100\n",
      "5359/5359 [==============================] - 1s 146us/step - loss: 0.3540 - accuracy: 0.8571 - val_loss: 0.3689 - val_accuracy: 0.8516\n",
      "Epoch 46/100\n",
      "5359/5359 [==============================] - 1s 146us/step - loss: 0.3502 - accuracy: 0.8582 - val_loss: 0.3667 - val_accuracy: 0.8489\n",
      "Epoch 47/100\n",
      "5359/5359 [==============================] - 1s 147us/step - loss: 0.3476 - accuracy: 0.8612 - val_loss: 0.3648 - val_accuracy: 0.8493\n",
      "Epoch 48/100\n",
      "5359/5359 [==============================] - 1s 147us/step - loss: 0.3453 - accuracy: 0.8604 - val_loss: 0.3625 - val_accuracy: 0.8527\n",
      "Epoch 49/100\n",
      "5359/5359 [==============================] - 1s 150us/step - loss: 0.3432 - accuracy: 0.8621 - val_loss: 0.3616 - val_accuracy: 0.8538\n",
      "Epoch 50/100\n",
      "5359/5359 [==============================] - 1s 172us/step - loss: 0.3425 - accuracy: 0.8614 - val_loss: 0.3615 - val_accuracy: 0.8538\n",
      "Epoch 51/100\n",
      "5359/5359 [==============================] - 1s 153us/step - loss: 0.3410 - accuracy: 0.8634 - val_loss: 0.3604 - val_accuracy: 0.8538\n",
      "Epoch 52/100\n",
      "5359/5359 [==============================] - 1s 147us/step - loss: 0.3398 - accuracy: 0.8621 - val_loss: 0.3588 - val_accuracy: 0.8542\n",
      "Epoch 53/100\n",
      "5359/5359 [==============================] - 1s 151us/step - loss: 0.3384 - accuracy: 0.8634 - val_loss: 0.3602 - val_accuracy: 0.8557\n",
      "Epoch 54/100\n",
      "5359/5359 [==============================] - 1s 152us/step - loss: 0.3378 - accuracy: 0.8628 - val_loss: 0.3602 - val_accuracy: 0.8550\n",
      "Epoch 55/100\n",
      "5359/5359 [==============================] - 1s 145us/step - loss: 0.3372 - accuracy: 0.8623 - val_loss: 0.3585 - val_accuracy: 0.8576\n",
      "Epoch 56/100\n",
      "5359/5359 [==============================] - 1s 138us/step - loss: 0.3364 - accuracy: 0.8645 - val_loss: 0.3578 - val_accuracy: 0.8546\n",
      "Epoch 57/100\n",
      "5359/5359 [==============================] - 1s 135us/step - loss: 0.3355 - accuracy: 0.8628 - val_loss: 0.3574 - val_accuracy: 0.8565\n",
      "Epoch 58/100\n",
      "5359/5359 [==============================] - 1s 145us/step - loss: 0.3356 - accuracy: 0.8619 - val_loss: 0.3570 - val_accuracy: 0.8557\n",
      "Epoch 59/100\n",
      "5359/5359 [==============================] - 1s 136us/step - loss: 0.3350 - accuracy: 0.8628 - val_loss: 0.3575 - val_accuracy: 0.8554\n",
      "Epoch 60/100\n",
      "5359/5359 [==============================] - 1s 144us/step - loss: 0.3342 - accuracy: 0.8619 - val_loss: 0.3575 - val_accuracy: 0.8550\n",
      "Epoch 61/100\n",
      "5359/5359 [==============================] - 1s 144us/step - loss: 0.3342 - accuracy: 0.8621 - val_loss: 0.3574 - val_accuracy: 0.8557\n",
      "Epoch 62/100\n",
      "5359/5359 [==============================] - 1s 171us/step - loss: 0.3339 - accuracy: 0.8636 - val_loss: 0.3579 - val_accuracy: 0.8561\n",
      "Epoch 63/100\n",
      "5359/5359 [==============================] - 1s 147us/step - loss: 0.3336 - accuracy: 0.8647 - val_loss: 0.3568 - val_accuracy: 0.8557\n",
      "Epoch 64/100\n",
      "5359/5359 [==============================] - 1s 147us/step - loss: 0.3331 - accuracy: 0.8634 - val_loss: 0.3566 - val_accuracy: 0.8554\n",
      "Epoch 65/100\n",
      "5359/5359 [==============================] - 1s 149us/step - loss: 0.3332 - accuracy: 0.8627 - val_loss: 0.3569 - val_accuracy: 0.8554\n",
      "Epoch 66/100\n",
      "5359/5359 [==============================] - 1s 150us/step - loss: 0.3328 - accuracy: 0.8623 - val_loss: 0.3575 - val_accuracy: 0.8554\n",
      "Epoch 67/100\n",
      "5359/5359 [==============================] - 1s 187us/step - loss: 0.3327 - accuracy: 0.8625 - val_loss: 0.3566 - val_accuracy: 0.8554\n",
      "Epoch 68/100\n",
      "5359/5359 [==============================] - 1s 170us/step - loss: 0.3324 - accuracy: 0.8617 - val_loss: 0.3570 - val_accuracy: 0.8561\n",
      "Epoch 69/100\n",
      "5359/5359 [==============================] - 1s 161us/step - loss: 0.3326 - accuracy: 0.8619 - val_loss: 0.3560 - val_accuracy: 0.8550\n",
      "Epoch 70/100\n",
      "5359/5359 [==============================] - 1s 160us/step - loss: 0.3323 - accuracy: 0.8617 - val_loss: 0.3564 - val_accuracy: 0.8561\n",
      "Epoch 71/100\n",
      "5359/5359 [==============================] - 1s 148us/step - loss: 0.3327 - accuracy: 0.8627 - val_loss: 0.3565 - val_accuracy: 0.8561\n",
      "Epoch 72/100\n",
      "5359/5359 [==============================] - 1s 160us/step - loss: 0.3322 - accuracy: 0.8617 - val_loss: 0.3561 - val_accuracy: 0.8573\n",
      "Epoch 73/100\n",
      "5359/5359 [==============================] - 1s 162us/step - loss: 0.3315 - accuracy: 0.8640 - val_loss: 0.3558 - val_accuracy: 0.8565\n",
      "Epoch 74/100\n",
      "5359/5359 [==============================] - 1s 154us/step - loss: 0.3315 - accuracy: 0.8623 - val_loss: 0.3571 - val_accuracy: 0.8557\n",
      "Epoch 75/100\n",
      "5359/5359 [==============================] - 1s 142us/step - loss: 0.3318 - accuracy: 0.8623 - val_loss: 0.3563 - val_accuracy: 0.8546\n",
      "Epoch 76/100\n",
      "5359/5359 [==============================] - 1s 145us/step - loss: 0.3310 - accuracy: 0.8643 - val_loss: 0.3559 - val_accuracy: 0.8542\n",
      "Epoch 77/100\n",
      "5359/5359 [==============================] - 1s 134us/step - loss: 0.3313 - accuracy: 0.8636 - val_loss: 0.3560 - val_accuracy: 0.8573\n",
      "Epoch 78/100\n",
      "5359/5359 [==============================] - 1s 144us/step - loss: 0.3310 - accuracy: 0.8627 - val_loss: 0.3565 - val_accuracy: 0.8546\n",
      "Epoch 79/100\n",
      "5359/5359 [==============================] - 1s 152us/step - loss: 0.3308 - accuracy: 0.8636 - val_loss: 0.3561 - val_accuracy: 0.8580\n",
      "Epoch 80/100\n",
      "5359/5359 [==============================] - 1s 170us/step - loss: 0.3308 - accuracy: 0.8621 - val_loss: 0.3569 - val_accuracy: 0.8580\n",
      "Epoch 81/100\n",
      "5359/5359 [==============================] - 1s 171us/step - loss: 0.3309 - accuracy: 0.8638 - val_loss: 0.3557 - val_accuracy: 0.8569\n",
      "Epoch 82/100\n",
      "5359/5359 [==============================] - 1s 202us/step - loss: 0.3304 - accuracy: 0.8619 - val_loss: 0.3568 - val_accuracy: 0.8561\n",
      "Epoch 83/100\n",
      "5359/5359 [==============================] - 1s 209us/step - loss: 0.3306 - accuracy: 0.8628 - val_loss: 0.3562 - val_accuracy: 0.8565\n",
      "Epoch 84/100\n",
      "5359/5359 [==============================] - 1s 229us/step - loss: 0.3304 - accuracy: 0.8634 - val_loss: 0.3554 - val_accuracy: 0.8580\n",
      "Epoch 85/100\n",
      "5359/5359 [==============================] - 1s 193us/step - loss: 0.3305 - accuracy: 0.8632 - val_loss: 0.3559 - val_accuracy: 0.8576\n",
      "Epoch 86/100\n",
      "5359/5359 [==============================] - 1s 133us/step - loss: 0.3305 - accuracy: 0.8627 - val_loss: 0.3574 - val_accuracy: 0.8573\n",
      "Epoch 87/100\n",
      "5359/5359 [==============================] - 1s 132us/step - loss: 0.3303 - accuracy: 0.8640 - val_loss: 0.3565 - val_accuracy: 0.8569\n",
      "Epoch 88/100\n",
      "5359/5359 [==============================] - 1s 129us/step - loss: 0.3301 - accuracy: 0.8638 - val_loss: 0.3554 - val_accuracy: 0.8576\n",
      "Epoch 89/100\n",
      "5359/5359 [==============================] - 1s 139us/step - loss: 0.3304 - accuracy: 0.8642 - val_loss: 0.3549 - val_accuracy: 0.8569\n",
      "Epoch 90/100\n",
      "5359/5359 [==============================] - 1s 133us/step - loss: 0.3301 - accuracy: 0.8617 - val_loss: 0.3562 - val_accuracy: 0.8565\n",
      "Epoch 91/100\n",
      "5359/5359 [==============================] - 1s 156us/step - loss: 0.3302 - accuracy: 0.8643 - val_loss: 0.3558 - val_accuracy: 0.8573\n",
      "Epoch 92/100\n",
      "5359/5359 [==============================] - 1s 162us/step - loss: 0.3300 - accuracy: 0.8653 - val_loss: 0.3564 - val_accuracy: 0.8576\n",
      "Epoch 93/100\n",
      "5359/5359 [==============================] - 1s 137us/step - loss: 0.3297 - accuracy: 0.8625 - val_loss: 0.3554 - val_accuracy: 0.8565\n",
      "Epoch 94/100\n",
      "5359/5359 [==============================] - 1s 136us/step - loss: 0.3298 - accuracy: 0.8625 - val_loss: 0.3564 - val_accuracy: 0.8573\n",
      "Epoch 95/100\n",
      "5359/5359 [==============================] - 1s 136us/step - loss: 0.3292 - accuracy: 0.8632 - val_loss: 0.3563 - val_accuracy: 0.8557\n",
      "Epoch 96/100\n",
      "5359/5359 [==============================] - 1s 137us/step - loss: 0.3298 - accuracy: 0.8638 - val_loss: 0.3554 - val_accuracy: 0.8588\n",
      "Epoch 97/100\n",
      "5359/5359 [==============================] - 1s 132us/step - loss: 0.3296 - accuracy: 0.8640 - val_loss: 0.3552 - val_accuracy: 0.8565\n",
      "Epoch 98/100\n",
      "5359/5359 [==============================] - 1s 130us/step - loss: 0.3298 - accuracy: 0.8621 - val_loss: 0.3550 - val_accuracy: 0.8561\n",
      "Epoch 99/100\n",
      "5359/5359 [==============================] - 1s 156us/step - loss: 0.3295 - accuracy: 0.8645 - val_loss: 0.3549 - val_accuracy: 0.8565\n",
      "Epoch 100/100\n",
      "5359/5359 [==============================] - 1s 151us/step - loss: 0.3294 - accuracy: 0.8636 - val_loss: 0.3561 - val_accuracy: 0.8565\n"
     ]
    }
   ],
   "source": [
    "classifier = Sequential()\n",
    "classifier.add(Dense(output_dim = 6, init = 'he_uniform',activation='relu',input_dim = 11))\n",
    "classifier.add(Dense(output_dim = 6, init = 'he_uniform',activation='relu'))\n",
    "classifier.add(Dense(output_dim = 1, init = 'glorot_uniform', activation = 'sigmoid'))\n",
    "classifier.compile(optimizer = 'Adamax', loss = 'binary_crossentropy', metrics = ['accuracy'])\n",
    "model_history=classifier.fit(X_train, y_train,validation_split=0.33, batch_size = 10, nb_epoch = 100)\n"
   ]
  },
  {
   "cell_type": "code",
   "execution_count": 9,
   "metadata": {},
   "outputs": [],
   "source": [
    "# Predicting the Test set results\n",
    "y_pred = classifier.predict(X_test)\n",
    "y_pred = (y_pred > 0.5)\n",
    "\n",
    "# Making the Confusion Matrix\n",
    "from sklearn.metrics import confusion_matrix\n",
    "cm = confusion_matrix(y_test, y_pred)\n",
    "\n",
    "# Calculate the Accuracy\n",
    "from sklearn.metrics import accuracy_score\n",
    "score=accuracy_score(y_pred,y_test)\n",
    "\n"
   ]
  },
  {
   "cell_type": "code",
   "execution_count": 21,
   "metadata": {},
   "outputs": [
    {
     "data": {
      "text/plain": [
       "0.8635"
      ]
     },
     "execution_count": 21,
     "metadata": {},
     "output_type": "execute_result"
    }
   ],
   "source": [
    "score"
   ]
  },
  {
   "cell_type": "code",
   "execution_count": 23,
   "metadata": {},
   "outputs": [
    {
     "name": "stdout",
     "output_type": "stream",
     "text": [
      "Accuracy of model is =  86.35 %\n"
     ]
    }
   ],
   "source": [
    "f= open(\"ann_acc.txt\",\"w+\")\n",
    "f.write(str(round(score*100,2)))\n",
    "f.close()\n",
    "print(\"Accuracy of model is = \" , round(score*100,2) ,\"%\")"
   ]
  },
  {
   "cell_type": "code",
   "execution_count": null,
   "metadata": {},
   "outputs": [],
   "source": []
  }
 ],
 "metadata": {
  "kernelspec": {
   "display_name": "Python 3",
   "language": "python",
   "name": "python3"
  },
  "language_info": {
   "codemirror_mode": {
    "name": "ipython",
    "version": 3
   },
   "file_extension": ".py",
   "mimetype": "text/x-python",
   "name": "python",
   "nbconvert_exporter": "python",
   "pygments_lexer": "ipython3",
   "version": "3.8.2"
  }
 },
 "nbformat": 4,
 "nbformat_minor": 4
}
