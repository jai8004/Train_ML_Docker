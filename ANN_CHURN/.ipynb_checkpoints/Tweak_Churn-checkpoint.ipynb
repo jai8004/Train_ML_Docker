{
 "cells": [
  {
   "cell_type": "code",
   "execution_count": 1,
   "metadata": {},
   "outputs": [],
   "source": [
    "# Importing the libraries\n",
    "import numpy as np\n",
    "import pandas as pd\n",
    "\n",
    "from sklearn.metrics import accuracy_score"
   ]
  },
  {
   "cell_type": "code",
   "execution_count": 2,
   "metadata": {},
   "outputs": [],
   "source": [
    "\n",
    "# Importing the dataset\n",
    "dataset = pd.read_csv('Churn_Modelling.csv')\n",
    "X = dataset.iloc[:, 3:13]\n",
    "y = dataset.iloc[:, 13]\n"
   ]
  },
  {
   "cell_type": "code",
   "execution_count": 3,
   "metadata": {},
   "outputs": [],
   "source": [
    "\n",
    "#Create dummy variables\n",
    "geography=pd.get_dummies(X[\"Geography\"],drop_first=True)\n",
    "gender=pd.get_dummies(X['Gender'],drop_first=True)\n"
   ]
  },
  {
   "cell_type": "code",
   "execution_count": 4,
   "metadata": {},
   "outputs": [],
   "source": [
    "\n",
    "## Concatenate the Data Frames\n",
    "\n",
    "X=pd.concat([X,geography,gender],axis=1)\n",
    "\n",
    "## Drop Unnecessary columns\n",
    "X=X.drop(['Geography','Gender'],axis=1)"
   ]
  },
  {
   "cell_type": "code",
   "execution_count": 5,
   "metadata": {},
   "outputs": [],
   "source": [
    "\n",
    "# Splitting the dataset into the Training set and Test set\n",
    "from sklearn.model_selection import train_test_split\n",
    "X_train, X_test, y_train, y_test = train_test_split(X, y, test_size = 0.2, random_state = 0)\n"
   ]
  },
  {
   "cell_type": "code",
   "execution_count": 6,
   "metadata": {},
   "outputs": [],
   "source": [
    "# Feature Scaling\n",
    "from sklearn.preprocessing import StandardScaler\n",
    "sc = StandardScaler()\n",
    "X_train = sc.fit_transform(X_train)\n",
    "X_test = sc.transform(X_test)"
   ]
  },
  {
   "cell_type": "code",
   "execution_count": 7,
   "metadata": {},
   "outputs": [
    {
     "name": "stderr",
     "output_type": "stream",
     "text": [
      "Using TensorFlow backend.\n"
     ]
    }
   ],
   "source": [
    "\n",
    "\n",
    "# Importing the Keras libraries and packages\n",
    "import keras\n",
    "from keras.models import Sequential\n",
    "from keras.layers import Dense\n",
    "from keras.layers import LeakyReLU,PReLU,ELU\n",
    "from keras.layers import Dropout\n"
   ]
  },
  {
   "cell_type": "code",
   "execution_count": 8,
   "metadata": {},
   "outputs": [],
   "source": [
    "def tweak_model(classifier,layers,neurons,epochs,model_tweak_count):\n",
    "    print(\"Model Tweak :\" ,model_tweak_count)\n",
    "    print(\"Layers Added :\",layers)\n",
    "    print(\"Neurons Per Layer :\",neurons)\n",
    "    print(\"Epochs This Layer :\",epochs)\n",
    "    print(\"********************************\")    \n",
    "    for i in range(layers):\n",
    "        \n",
    "        classifier.add(Dense(units = neurons, kernel_initializer = 'he_uniform',activation='relu'))\n",
    "    return classifier   "
   ]
  },
  {
   "cell_type": "code",
   "execution_count": 28,
   "metadata": {},
   "outputs": [
    {
     "name": "stdout",
     "output_type": "stream",
     "text": [
      "Model Tweak : 0\n",
      "Layers Added : 1\n",
      "Neurons Per Layer : 10\n",
      "Epochs This Layer : 90\n",
      "********************************\n",
      "Train on 7200 samples, validate on 800 samples\n",
      "Epoch 1/90\n",
      "7200/7200 [==============================] - 1s 112us/step - loss: 0.5711 - accuracy: 0.7185 - val_loss: 0.4934 - val_accuracy: 0.8000\n",
      "Epoch 2/90\n",
      "7200/7200 [==============================] - 1s 102us/step - loss: 0.4657 - accuracy: 0.8014 - val_loss: 0.4509 - val_accuracy: 0.8025\n",
      "Epoch 3/90\n",
      "7200/7200 [==============================] - 1s 101us/step - loss: 0.4434 - accuracy: 0.8086 - val_loss: 0.4340 - val_accuracy: 0.8138\n",
      "Epoch 4/90\n",
      "7200/7200 [==============================] - 1s 102us/step - loss: 0.4337 - accuracy: 0.8094 - val_loss: 0.4250 - val_accuracy: 0.8138\n",
      "Epoch 5/90\n",
      "7200/7200 [==============================] - 1s 125us/step - loss: 0.4278 - accuracy: 0.8117 - val_loss: 0.4194 - val_accuracy: 0.8125\n",
      "Epoch 6/90\n",
      "7200/7200 [==============================] - 1s 124us/step - loss: 0.4232 - accuracy: 0.8139 - val_loss: 0.4143 - val_accuracy: 0.8112\n",
      "Epoch 7/90\n",
      "7200/7200 [==============================] - 1s 130us/step - loss: 0.4184 - accuracy: 0.8172 - val_loss: 0.4069 - val_accuracy: 0.8213\n",
      "Epoch 8/90\n",
      "7200/7200 [==============================] - 1s 123us/step - loss: 0.4126 - accuracy: 0.8208 - val_loss: 0.3997 - val_accuracy: 0.8225\n",
      "Epoch 9/90\n",
      "7200/7200 [==============================] - 1s 124us/step - loss: 0.4069 - accuracy: 0.8238 - val_loss: 0.3915 - val_accuracy: 0.8313\n",
      "Epoch 10/90\n",
      "7200/7200 [==============================] - 1s 124us/step - loss: 0.3998 - accuracy: 0.8271 - val_loss: 0.3840 - val_accuracy: 0.8400\n",
      "Epoch 11/90\n",
      "7200/7200 [==============================] - 1s 123us/step - loss: 0.3921 - accuracy: 0.8314 - val_loss: 0.3754 - val_accuracy: 0.8388\n",
      "Epoch 12/90\n",
      "7200/7200 [==============================] - 1s 123us/step - loss: 0.3845 - accuracy: 0.8335 - val_loss: 0.3684 - val_accuracy: 0.8438\n",
      "Epoch 13/90\n",
      "7200/7200 [==============================] - 1s 126us/step - loss: 0.3775 - accuracy: 0.8367 - val_loss: 0.3631 - val_accuracy: 0.8500\n",
      "Epoch 14/90\n",
      "7200/7200 [==============================] - 1s 125us/step - loss: 0.3717 - accuracy: 0.8432 - val_loss: 0.3597 - val_accuracy: 0.8525\n",
      "Epoch 15/90\n",
      "7200/7200 [==============================] - 1s 125us/step - loss: 0.3673 - accuracy: 0.8447 - val_loss: 0.3565 - val_accuracy: 0.8512\n",
      "Epoch 16/90\n",
      "7200/7200 [==============================] - 1s 124us/step - loss: 0.3640 - accuracy: 0.8461 - val_loss: 0.3552 - val_accuracy: 0.8550\n",
      "Epoch 17/90\n",
      "7200/7200 [==============================] - 1s 125us/step - loss: 0.3615 - accuracy: 0.8453 - val_loss: 0.3527 - val_accuracy: 0.8600\n",
      "Epoch 18/90\n",
      "7200/7200 [==============================] - 1s 123us/step - loss: 0.3600 - accuracy: 0.8478 - val_loss: 0.3508 - val_accuracy: 0.8575\n",
      "Epoch 19/90\n",
      "7200/7200 [==============================] - 1s 125us/step - loss: 0.3586 - accuracy: 0.8481 - val_loss: 0.3508 - val_accuracy: 0.8612\n",
      "Epoch 20/90\n",
      "7200/7200 [==============================] - 1s 123us/step - loss: 0.3575 - accuracy: 0.8500 - val_loss: 0.3492 - val_accuracy: 0.8625\n",
      "Epoch 21/90\n",
      "7200/7200 [==============================] - 1s 125us/step - loss: 0.3569 - accuracy: 0.8487 - val_loss: 0.3499 - val_accuracy: 0.8625\n",
      "Epoch 22/90\n",
      "7200/7200 [==============================] - 1s 123us/step - loss: 0.3561 - accuracy: 0.8504 - val_loss: 0.3491 - val_accuracy: 0.8625\n",
      "Epoch 23/90\n",
      "7200/7200 [==============================] - 1s 123us/step - loss: 0.3552 - accuracy: 0.8521 - val_loss: 0.3479 - val_accuracy: 0.8612\n",
      "Epoch 24/90\n",
      "7200/7200 [==============================] - 1s 124us/step - loss: 0.3546 - accuracy: 0.8515 - val_loss: 0.3481 - val_accuracy: 0.8662\n",
      "Epoch 25/90\n",
      "7200/7200 [==============================] - 1s 124us/step - loss: 0.3544 - accuracy: 0.8506 - val_loss: 0.3474 - val_accuracy: 0.8637\n",
      "Epoch 26/90\n",
      "7200/7200 [==============================] - 1s 125us/step - loss: 0.3540 - accuracy: 0.8504 - val_loss: 0.3491 - val_accuracy: 0.8600\n",
      "Epoch 27/90\n",
      "7200/7200 [==============================] - 1s 123us/step - loss: 0.3535 - accuracy: 0.8515 - val_loss: 0.3465 - val_accuracy: 0.8612\n",
      "Epoch 28/90\n",
      "7200/7200 [==============================] - 1s 126us/step - loss: 0.3529 - accuracy: 0.8522 - val_loss: 0.3469 - val_accuracy: 0.8637\n",
      "Epoch 29/90\n",
      "7200/7200 [==============================] - 1s 124us/step - loss: 0.3527 - accuracy: 0.8519 - val_loss: 0.3457 - val_accuracy: 0.8637\n",
      "Epoch 30/90\n",
      "7200/7200 [==============================] - 1s 126us/step - loss: 0.3523 - accuracy: 0.8511 - val_loss: 0.3451 - val_accuracy: 0.8600\n",
      "Epoch 31/90\n",
      "7200/7200 [==============================] - 1s 123us/step - loss: 0.3521 - accuracy: 0.8517 - val_loss: 0.3450 - val_accuracy: 0.8612\n",
      "Epoch 32/90\n",
      "7200/7200 [==============================] - 1s 128us/step - loss: 0.3515 - accuracy: 0.8526 - val_loss: 0.3438 - val_accuracy: 0.8650\n",
      "Epoch 33/90\n",
      "7200/7200 [==============================] - 1s 126us/step - loss: 0.3514 - accuracy: 0.8529 - val_loss: 0.3441 - val_accuracy: 0.8650\n",
      "Epoch 34/90\n",
      "7200/7200 [==============================] - 1s 133us/step - loss: 0.3512 - accuracy: 0.8533 - val_loss: 0.3429 - val_accuracy: 0.8662\n",
      "Epoch 35/90\n",
      "7200/7200 [==============================] - 1s 128us/step - loss: 0.3507 - accuracy: 0.8536 - val_loss: 0.3428 - val_accuracy: 0.8662\n",
      "Epoch 36/90\n",
      "7200/7200 [==============================] - 1s 130us/step - loss: 0.3505 - accuracy: 0.8524 - val_loss: 0.3423 - val_accuracy: 0.8662\n",
      "Epoch 37/90\n",
      "7200/7200 [==============================] - 1s 130us/step - loss: 0.3503 - accuracy: 0.8540 - val_loss: 0.3432 - val_accuracy: 0.8650\n",
      "Epoch 38/90\n",
      "7200/7200 [==============================] - 1s 129us/step - loss: 0.3501 - accuracy: 0.8525 - val_loss: 0.3411 - val_accuracy: 0.8675\n",
      "Epoch 39/90\n",
      "7200/7200 [==============================] - 1s 132us/step - loss: 0.3499 - accuracy: 0.8533 - val_loss: 0.3420 - val_accuracy: 0.8625\n",
      "Epoch 40/90\n",
      "7200/7200 [==============================] - 1s 131us/step - loss: 0.3496 - accuracy: 0.8532 - val_loss: 0.3412 - val_accuracy: 0.8675\n",
      "Epoch 41/90\n",
      "7200/7200 [==============================] - 1s 132us/step - loss: 0.3492 - accuracy: 0.8536 - val_loss: 0.3397 - val_accuracy: 0.8687\n",
      "Epoch 42/90\n",
      "7200/7200 [==============================] - 1s 130us/step - loss: 0.3493 - accuracy: 0.8542 - val_loss: 0.3398 - val_accuracy: 0.8687\n",
      "Epoch 43/90\n",
      "7200/7200 [==============================] - 1s 131us/step - loss: 0.3487 - accuracy: 0.8537 - val_loss: 0.3391 - val_accuracy: 0.8700\n",
      "Epoch 44/90\n",
      "7200/7200 [==============================] - 1s 128us/step - loss: 0.3486 - accuracy: 0.8550 - val_loss: 0.3390 - val_accuracy: 0.8687\n",
      "Epoch 45/90\n",
      "7200/7200 [==============================] - 1s 130us/step - loss: 0.3487 - accuracy: 0.8535 - val_loss: 0.3395 - val_accuracy: 0.8687\n",
      "Epoch 46/90\n",
      "7200/7200 [==============================] - 1s 130us/step - loss: 0.3482 - accuracy: 0.8550 - val_loss: 0.3381 - val_accuracy: 0.8687\n",
      "Epoch 47/90\n",
      "7200/7200 [==============================] - 1s 132us/step - loss: 0.3480 - accuracy: 0.8550 - val_loss: 0.3383 - val_accuracy: 0.8675\n",
      "Epoch 48/90\n",
      "7200/7200 [==============================] - 1s 130us/step - loss: 0.3475 - accuracy: 0.8557 - val_loss: 0.3364 - val_accuracy: 0.8700\n",
      "Epoch 49/90\n",
      "7200/7200 [==============================] - 1s 131us/step - loss: 0.3472 - accuracy: 0.8554 - val_loss: 0.3357 - val_accuracy: 0.8750\n",
      "Epoch 50/90\n",
      "7200/7200 [==============================] - 1s 131us/step - loss: 0.3472 - accuracy: 0.8547 - val_loss: 0.3376 - val_accuracy: 0.8687\n",
      "Epoch 51/90\n",
      "7200/7200 [==============================] - 1s 129us/step - loss: 0.3471 - accuracy: 0.8567 - val_loss: 0.3365 - val_accuracy: 0.8700\n",
      "Epoch 52/90\n",
      "7200/7200 [==============================] - 1s 131us/step - loss: 0.3469 - accuracy: 0.8567 - val_loss: 0.3354 - val_accuracy: 0.8712\n",
      "Epoch 53/90\n",
      "7200/7200 [==============================] - 1s 130us/step - loss: 0.3465 - accuracy: 0.8579 - val_loss: 0.3351 - val_accuracy: 0.8725\n",
      "Epoch 54/90\n",
      "7200/7200 [==============================] - 1s 131us/step - loss: 0.3463 - accuracy: 0.8554 - val_loss: 0.3359 - val_accuracy: 0.8650\n",
      "Epoch 55/90\n",
      "7200/7200 [==============================] - 1s 130us/step - loss: 0.3461 - accuracy: 0.8569 - val_loss: 0.3337 - val_accuracy: 0.8725\n"
     ]
    },
    {
     "name": "stdout",
     "output_type": "stream",
     "text": [
      "Epoch 56/90\n",
      "7200/7200 [==============================] - 1s 118us/step - loss: 0.3460 - accuracy: 0.8569 - val_loss: 0.3337 - val_accuracy: 0.8687\n",
      "Epoch 57/90\n",
      "7200/7200 [==============================] - 1s 119us/step - loss: 0.3457 - accuracy: 0.8572 - val_loss: 0.3347 - val_accuracy: 0.8662\n",
      "Epoch 58/90\n",
      "7200/7200 [==============================] - 1s 119us/step - loss: 0.3455 - accuracy: 0.8576 - val_loss: 0.3329 - val_accuracy: 0.8737\n",
      "Epoch 59/90\n",
      "7200/7200 [==============================] - 1s 119us/step - loss: 0.3454 - accuracy: 0.8561 - val_loss: 0.3325 - val_accuracy: 0.8662\n",
      "Epoch 60/90\n",
      "7200/7200 [==============================] - 1s 119us/step - loss: 0.3453 - accuracy: 0.8583 - val_loss: 0.3334 - val_accuracy: 0.8687\n",
      "Epoch 61/90\n",
      "7200/7200 [==============================] - 1s 118us/step - loss: 0.3451 - accuracy: 0.8585 - val_loss: 0.3327 - val_accuracy: 0.8687\n",
      "Epoch 62/90\n",
      "7200/7200 [==============================] - 1s 117us/step - loss: 0.3450 - accuracy: 0.8574 - val_loss: 0.3326 - val_accuracy: 0.8700\n",
      "Epoch 63/90\n",
      "7200/7200 [==============================] - 1s 119us/step - loss: 0.3449 - accuracy: 0.8579 - val_loss: 0.3325 - val_accuracy: 0.8687\n",
      "Epoch 64/90\n",
      "7200/7200 [==============================] - 1s 119us/step - loss: 0.3443 - accuracy: 0.8574 - val_loss: 0.3326 - val_accuracy: 0.8662\n",
      "Epoch 65/90\n",
      "7200/7200 [==============================] - 1s 118us/step - loss: 0.3444 - accuracy: 0.8589 - val_loss: 0.3327 - val_accuracy: 0.8712\n",
      "Epoch 66/90\n",
      "7200/7200 [==============================] - 1s 118us/step - loss: 0.3444 - accuracy: 0.8576 - val_loss: 0.3320 - val_accuracy: 0.8700\n",
      "Epoch 67/90\n",
      "7200/7200 [==============================] - 1s 118us/step - loss: 0.3442 - accuracy: 0.8575 - val_loss: 0.3320 - val_accuracy: 0.8725\n",
      "Epoch 68/90\n",
      "7200/7200 [==============================] - 1s 118us/step - loss: 0.3439 - accuracy: 0.8583 - val_loss: 0.3323 - val_accuracy: 0.8662\n",
      "Epoch 69/90\n",
      "7200/7200 [==============================] - 1s 118us/step - loss: 0.3439 - accuracy: 0.8583 - val_loss: 0.3337 - val_accuracy: 0.8650\n",
      "Epoch 70/90\n",
      "7200/7200 [==============================] - 1s 118us/step - loss: 0.3439 - accuracy: 0.8572 - val_loss: 0.3336 - val_accuracy: 0.8675\n",
      "Epoch 71/90\n",
      "7200/7200 [==============================] - 1s 121us/step - loss: 0.3436 - accuracy: 0.8583 - val_loss: 0.3318 - val_accuracy: 0.8725\n",
      "Epoch 72/90\n",
      "7200/7200 [==============================] - 1s 119us/step - loss: 0.3434 - accuracy: 0.8575 - val_loss: 0.3324 - val_accuracy: 0.8725\n",
      "Epoch 73/90\n",
      "7200/7200 [==============================] - 1s 120us/step - loss: 0.3433 - accuracy: 0.8581 - val_loss: 0.3319 - val_accuracy: 0.8675\n",
      "Epoch 74/90\n",
      "7200/7200 [==============================] - 1s 119us/step - loss: 0.3434 - accuracy: 0.8590 - val_loss: 0.3312 - val_accuracy: 0.8737\n",
      "Epoch 75/90\n",
      "7200/7200 [==============================] - 1s 119us/step - loss: 0.3428 - accuracy: 0.8581 - val_loss: 0.3307 - val_accuracy: 0.8737\n",
      "Epoch 76/90\n",
      "7200/7200 [==============================] - 1s 118us/step - loss: 0.3430 - accuracy: 0.8587 - val_loss: 0.3323 - val_accuracy: 0.8687\n",
      "Epoch 77/90\n",
      "7200/7200 [==============================] - 1s 121us/step - loss: 0.3427 - accuracy: 0.8586 - val_loss: 0.3327 - val_accuracy: 0.8675\n",
      "Epoch 78/90\n",
      "7200/7200 [==============================] - 1s 119us/step - loss: 0.3430 - accuracy: 0.8581 - val_loss: 0.3333 - val_accuracy: 0.8650\n",
      "Epoch 79/90\n",
      "7200/7200 [==============================] - 1s 118us/step - loss: 0.3426 - accuracy: 0.8590 - val_loss: 0.3310 - val_accuracy: 0.8725\n",
      "Epoch 80/90\n",
      "7200/7200 [==============================] - 1s 119us/step - loss: 0.3429 - accuracy: 0.8583 - val_loss: 0.3319 - val_accuracy: 0.8650\n",
      "Epoch 81/90\n",
      "7200/7200 [==============================] - 1s 120us/step - loss: 0.3424 - accuracy: 0.8594 - val_loss: 0.3318 - val_accuracy: 0.8675\n",
      "Epoch 82/90\n",
      "7200/7200 [==============================] - 1s 119us/step - loss: 0.3423 - accuracy: 0.8599 - val_loss: 0.3303 - val_accuracy: 0.8700\n",
      "Epoch 83/90\n",
      "7200/7200 [==============================] - 1s 120us/step - loss: 0.3422 - accuracy: 0.8597 - val_loss: 0.3308 - val_accuracy: 0.8675\n",
      "Epoch 84/90\n",
      "7200/7200 [==============================] - 1s 118us/step - loss: 0.3422 - accuracy: 0.8606 - val_loss: 0.3297 - val_accuracy: 0.8725\n",
      "Epoch 85/90\n",
      "7200/7200 [==============================] - 1s 119us/step - loss: 0.3418 - accuracy: 0.8587 - val_loss: 0.3302 - val_accuracy: 0.8687\n",
      "Epoch 86/90\n",
      "7200/7200 [==============================] - 1s 120us/step - loss: 0.3425 - accuracy: 0.8593 - val_loss: 0.3292 - val_accuracy: 0.8700\n",
      "Epoch 87/90\n",
      "7200/7200 [==============================] - 1s 119us/step - loss: 0.3419 - accuracy: 0.8596 - val_loss: 0.3288 - val_accuracy: 0.8725\n",
      "Epoch 88/90\n",
      "7200/7200 [==============================] - 1s 121us/step - loss: 0.3417 - accuracy: 0.8586 - val_loss: 0.3301 - val_accuracy: 0.8662\n",
      "Epoch 89/90\n",
      "7200/7200 [==============================] - 1s 119us/step - loss: 0.3417 - accuracy: 0.8594 - val_loss: 0.3301 - val_accuracy: 0.8675\n",
      "Epoch 90/90\n",
      "7200/7200 [==============================] - 1s 119us/step - loss: 0.3419 - accuracy: 0.8606 - val_loss: 0.3295 - val_accuracy: 0.8712\n",
      "Previous Accuracy: 0\n",
      "Current Accuracy : 86.2\n",
      "Accuracy Imporved by: 86.2\n"
     ]
    }
   ],
   "source": [
    "\n",
    "neurons = 10\n",
    "accuracy = 0\n",
    "epochs = 90\n",
    "layers = 1 \n",
    "flag = 0\n",
    "model_tweak_count=0\n",
    "\n",
    "\n",
    "\n",
    "while int(accuracy) < 86:\n",
    "    if flag ==1 :\n",
    "        classifer = keras.backend.clear_session()\n",
    "        neurons = neurons+10\n",
    "        epochs = epochs+5\n",
    "        layers=layers+3\n",
    "        model_tweak_count=model_tweak_count+1\n",
    "        \n",
    "        \n",
    "    classifier = Sequential()\n",
    "    \n",
    "    classifier.add(Dense(units = 6, kernel_initializer = 'he_uniform',activation='relu',input_dim = 11))\n",
    "    \n",
    "    classifier = tweak_model(classifier,layers,neurons,epochs,model_tweak_count)\n",
    "    classifier.add(Dense(units = 1, kernel_initializer = 'glorot_uniform', activation = 'sigmoid'))\n",
    "    classifier.compile(optimizer = 'Adamax', loss = 'binary_crossentropy', metrics = ['accuracy'])\n",
    "    \n",
    "    model_history=classifier.fit(X_train, y_train,validation_split=0.1, batch_size = 10, epochs = epochs,verbose=1)\n",
    "    #t=model_history.history\n",
    "   # a=t['accuracy'][epochs-1] * 100\n",
    "  #  accuracy=a\n",
    "    prev_acaccuracy=accuracy\n",
    "    y_pred = classifier.predict(X_test)\n",
    "    y_pred = (y_pred > 0.5)    \n",
    "    score=accuracy_score(y_pred,y_test)\n",
    "  \n",
    "    accuracy=round(score*100,2)\n",
    "    print(\"Previous Accuracy:\",prev_acaccuracy)\n",
    "    print(\"Current Accuracy :\", accuracy)\n",
    "    print(\"Accuracy Imporved by:\",accuracy-prev_acaccuracy)\n",
    "    flag=1\n",
    "    \n",
    "    "
   ]
  },
  {
   "cell_type": "code",
   "execution_count": 10,
   "metadata": {},
   "outputs": [],
   "source": [
    "classifier.save('tweak_model.h5')"
   ]
  },
  {
   "cell_type": "code",
   "execution_count": 16,
   "metadata": {},
   "outputs": [
    {
     "data": {
      "text/plain": [
       "86.26609444618225"
      ]
     },
     "execution_count": 16,
     "metadata": {},
     "output_type": "execute_result"
    }
   ],
   "source": [
    "#t=model_history.history\n",
    "#a=t['accuracy'][epochs-1] * 100\n",
    "#a"
   ]
  },
  {
   "cell_type": "code",
   "execution_count": 17,
   "metadata": {},
   "outputs": [],
   "source": [
    "##prev_acaccuracy=accuracy\n",
    "#y_pred = classifier.predict(X_test)\n",
    "#y_pred = (y_pred > 0.5)    \n",
    "#score=accuracy_score(y_pred,y_test)"
   ]
  },
  {
   "cell_type": "code",
   "execution_count": 18,
   "metadata": {},
   "outputs": [
    {
     "data": {
      "text/plain": [
       "0.86"
      ]
     },
     "execution_count": 18,
     "metadata": {},
     "output_type": "execute_result"
    }
   ],
   "source": [
    "score"
   ]
  },
  {
   "cell_type": "code",
   "execution_count": null,
   "metadata": {},
   "outputs": [],
   "source": []
  }
 ],
 "metadata": {
  "kernelspec": {
   "display_name": "Python 3",
   "language": "python",
   "name": "python3"
  },
  "language_info": {
   "codemirror_mode": {
    "name": "ipython",
    "version": 3
   },
   "file_extension": ".py",
   "mimetype": "text/x-python",
   "name": "python",
   "nbconvert_exporter": "python",
   "pygments_lexer": "ipython3",
   "version": "3.8.2"
  }
 },
 "nbformat": 4,
 "nbformat_minor": 4
}
